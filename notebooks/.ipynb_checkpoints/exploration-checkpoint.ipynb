{
 "cells": [
  {
   "cell_type": "code",
   "execution_count": 2,
   "metadata": {},
   "outputs": [],
   "source": [
    "import pandas as pd\n",
    "import numpy as np\n",
    "import matplotlib.pyplot as plt\n",
    "import seaborn as sns\n",
    "sns.set()"
   ]
  },
  {
   "cell_type": "code",
   "execution_count": 4,
   "metadata": {},
   "outputs": [],
   "source": [
    "import os"
   ]
  },
  {
   "cell_type": "code",
   "execution_count": null,
   "metadata": {},
   "outputs": [],
   "source": [
    "os."
   ]
  },
  {
   "cell_type": "code",
   "execution_count": 3,
   "metadata": {},
   "outputs": [
    {
     "ename": "FileNotFoundError",
     "evalue": "[Errno 2] File b'../data/rating.csv' does not exist: b'../data/rating.csv'",
     "output_type": "error",
     "traceback": [
      "\u001b[1;31m---------------------------------------------------------------------------\u001b[0m",
      "\u001b[1;31mFileNotFoundError\u001b[0m                         Traceback (most recent call last)",
      "\u001b[1;32m<ipython-input-3-138431b1f354>\u001b[0m in \u001b[0;36m<module>\u001b[1;34m\u001b[0m\n\u001b[1;32m----> 1\u001b[1;33m \u001b[0mratings\u001b[0m \u001b[1;33m=\u001b[0m \u001b[0mpd\u001b[0m\u001b[1;33m.\u001b[0m\u001b[0mread_csv\u001b[0m\u001b[1;33m(\u001b[0m\u001b[1;34m'../data/rating.csv'\u001b[0m\u001b[1;33m)\u001b[0m\u001b[1;33m\u001b[0m\u001b[1;33m\u001b[0m\u001b[0m\n\u001b[0m\u001b[0;32m      2\u001b[0m \u001b[0manime\u001b[0m \u001b[1;33m=\u001b[0m \u001b[0mpd\u001b[0m\u001b[1;33m.\u001b[0m\u001b[0mread_csv\u001b[0m\u001b[1;33m(\u001b[0m\u001b[1;34m'../data/anime.csv'\u001b[0m\u001b[1;33m)\u001b[0m\u001b[1;33m\u001b[0m\u001b[1;33m\u001b[0m\u001b[0m\n",
      "\u001b[1;32mC:\\Anaconda3\\lib\\site-packages\\pandas\\io\\parsers.py\u001b[0m in \u001b[0;36mparser_f\u001b[1;34m(filepath_or_buffer, sep, delimiter, header, names, index_col, usecols, squeeze, prefix, mangle_dupe_cols, dtype, engine, converters, true_values, false_values, skipinitialspace, skiprows, skipfooter, nrows, na_values, keep_default_na, na_filter, verbose, skip_blank_lines, parse_dates, infer_datetime_format, keep_date_col, date_parser, dayfirst, cache_dates, iterator, chunksize, compression, thousands, decimal, lineterminator, quotechar, quoting, doublequote, escapechar, comment, encoding, dialect, error_bad_lines, warn_bad_lines, delim_whitespace, low_memory, memory_map, float_precision)\u001b[0m\n\u001b[0;32m    683\u001b[0m         )\n\u001b[0;32m    684\u001b[0m \u001b[1;33m\u001b[0m\u001b[0m\n\u001b[1;32m--> 685\u001b[1;33m         \u001b[1;32mreturn\u001b[0m \u001b[0m_read\u001b[0m\u001b[1;33m(\u001b[0m\u001b[0mfilepath_or_buffer\u001b[0m\u001b[1;33m,\u001b[0m \u001b[0mkwds\u001b[0m\u001b[1;33m)\u001b[0m\u001b[1;33m\u001b[0m\u001b[1;33m\u001b[0m\u001b[0m\n\u001b[0m\u001b[0;32m    686\u001b[0m \u001b[1;33m\u001b[0m\u001b[0m\n\u001b[0;32m    687\u001b[0m     \u001b[0mparser_f\u001b[0m\u001b[1;33m.\u001b[0m\u001b[0m__name__\u001b[0m \u001b[1;33m=\u001b[0m \u001b[0mname\u001b[0m\u001b[1;33m\u001b[0m\u001b[1;33m\u001b[0m\u001b[0m\n",
      "\u001b[1;32mC:\\Anaconda3\\lib\\site-packages\\pandas\\io\\parsers.py\u001b[0m in \u001b[0;36m_read\u001b[1;34m(filepath_or_buffer, kwds)\u001b[0m\n\u001b[0;32m    455\u001b[0m \u001b[1;33m\u001b[0m\u001b[0m\n\u001b[0;32m    456\u001b[0m     \u001b[1;31m# Create the parser.\u001b[0m\u001b[1;33m\u001b[0m\u001b[1;33m\u001b[0m\u001b[1;33m\u001b[0m\u001b[0m\n\u001b[1;32m--> 457\u001b[1;33m     \u001b[0mparser\u001b[0m \u001b[1;33m=\u001b[0m \u001b[0mTextFileReader\u001b[0m\u001b[1;33m(\u001b[0m\u001b[0mfp_or_buf\u001b[0m\u001b[1;33m,\u001b[0m \u001b[1;33m**\u001b[0m\u001b[0mkwds\u001b[0m\u001b[1;33m)\u001b[0m\u001b[1;33m\u001b[0m\u001b[1;33m\u001b[0m\u001b[0m\n\u001b[0m\u001b[0;32m    458\u001b[0m \u001b[1;33m\u001b[0m\u001b[0m\n\u001b[0;32m    459\u001b[0m     \u001b[1;32mif\u001b[0m \u001b[0mchunksize\u001b[0m \u001b[1;32mor\u001b[0m \u001b[0miterator\u001b[0m\u001b[1;33m:\u001b[0m\u001b[1;33m\u001b[0m\u001b[1;33m\u001b[0m\u001b[0m\n",
      "\u001b[1;32mC:\\Anaconda3\\lib\\site-packages\\pandas\\io\\parsers.py\u001b[0m in \u001b[0;36m__init__\u001b[1;34m(self, f, engine, **kwds)\u001b[0m\n\u001b[0;32m    893\u001b[0m             \u001b[0mself\u001b[0m\u001b[1;33m.\u001b[0m\u001b[0moptions\u001b[0m\u001b[1;33m[\u001b[0m\u001b[1;34m\"has_index_names\"\u001b[0m\u001b[1;33m]\u001b[0m \u001b[1;33m=\u001b[0m \u001b[0mkwds\u001b[0m\u001b[1;33m[\u001b[0m\u001b[1;34m\"has_index_names\"\u001b[0m\u001b[1;33m]\u001b[0m\u001b[1;33m\u001b[0m\u001b[1;33m\u001b[0m\u001b[0m\n\u001b[0;32m    894\u001b[0m \u001b[1;33m\u001b[0m\u001b[0m\n\u001b[1;32m--> 895\u001b[1;33m         \u001b[0mself\u001b[0m\u001b[1;33m.\u001b[0m\u001b[0m_make_engine\u001b[0m\u001b[1;33m(\u001b[0m\u001b[0mself\u001b[0m\u001b[1;33m.\u001b[0m\u001b[0mengine\u001b[0m\u001b[1;33m)\u001b[0m\u001b[1;33m\u001b[0m\u001b[1;33m\u001b[0m\u001b[0m\n\u001b[0m\u001b[0;32m    896\u001b[0m \u001b[1;33m\u001b[0m\u001b[0m\n\u001b[0;32m    897\u001b[0m     \u001b[1;32mdef\u001b[0m \u001b[0mclose\u001b[0m\u001b[1;33m(\u001b[0m\u001b[0mself\u001b[0m\u001b[1;33m)\u001b[0m\u001b[1;33m:\u001b[0m\u001b[1;33m\u001b[0m\u001b[1;33m\u001b[0m\u001b[0m\n",
      "\u001b[1;32mC:\\Anaconda3\\lib\\site-packages\\pandas\\io\\parsers.py\u001b[0m in \u001b[0;36m_make_engine\u001b[1;34m(self, engine)\u001b[0m\n\u001b[0;32m   1133\u001b[0m     \u001b[1;32mdef\u001b[0m \u001b[0m_make_engine\u001b[0m\u001b[1;33m(\u001b[0m\u001b[0mself\u001b[0m\u001b[1;33m,\u001b[0m \u001b[0mengine\u001b[0m\u001b[1;33m=\u001b[0m\u001b[1;34m\"c\"\u001b[0m\u001b[1;33m)\u001b[0m\u001b[1;33m:\u001b[0m\u001b[1;33m\u001b[0m\u001b[1;33m\u001b[0m\u001b[0m\n\u001b[0;32m   1134\u001b[0m         \u001b[1;32mif\u001b[0m \u001b[0mengine\u001b[0m \u001b[1;33m==\u001b[0m \u001b[1;34m\"c\"\u001b[0m\u001b[1;33m:\u001b[0m\u001b[1;33m\u001b[0m\u001b[1;33m\u001b[0m\u001b[0m\n\u001b[1;32m-> 1135\u001b[1;33m             \u001b[0mself\u001b[0m\u001b[1;33m.\u001b[0m\u001b[0m_engine\u001b[0m \u001b[1;33m=\u001b[0m \u001b[0mCParserWrapper\u001b[0m\u001b[1;33m(\u001b[0m\u001b[0mself\u001b[0m\u001b[1;33m.\u001b[0m\u001b[0mf\u001b[0m\u001b[1;33m,\u001b[0m \u001b[1;33m**\u001b[0m\u001b[0mself\u001b[0m\u001b[1;33m.\u001b[0m\u001b[0moptions\u001b[0m\u001b[1;33m)\u001b[0m\u001b[1;33m\u001b[0m\u001b[1;33m\u001b[0m\u001b[0m\n\u001b[0m\u001b[0;32m   1136\u001b[0m         \u001b[1;32melse\u001b[0m\u001b[1;33m:\u001b[0m\u001b[1;33m\u001b[0m\u001b[1;33m\u001b[0m\u001b[0m\n\u001b[0;32m   1137\u001b[0m             \u001b[1;32mif\u001b[0m \u001b[0mengine\u001b[0m \u001b[1;33m==\u001b[0m \u001b[1;34m\"python\"\u001b[0m\u001b[1;33m:\u001b[0m\u001b[1;33m\u001b[0m\u001b[1;33m\u001b[0m\u001b[0m\n",
      "\u001b[1;32mC:\\Anaconda3\\lib\\site-packages\\pandas\\io\\parsers.py\u001b[0m in \u001b[0;36m__init__\u001b[1;34m(self, src, **kwds)\u001b[0m\n\u001b[0;32m   1915\u001b[0m         \u001b[0mkwds\u001b[0m\u001b[1;33m[\u001b[0m\u001b[1;34m\"usecols\"\u001b[0m\u001b[1;33m]\u001b[0m \u001b[1;33m=\u001b[0m \u001b[0mself\u001b[0m\u001b[1;33m.\u001b[0m\u001b[0musecols\u001b[0m\u001b[1;33m\u001b[0m\u001b[1;33m\u001b[0m\u001b[0m\n\u001b[0;32m   1916\u001b[0m \u001b[1;33m\u001b[0m\u001b[0m\n\u001b[1;32m-> 1917\u001b[1;33m         \u001b[0mself\u001b[0m\u001b[1;33m.\u001b[0m\u001b[0m_reader\u001b[0m \u001b[1;33m=\u001b[0m \u001b[0mparsers\u001b[0m\u001b[1;33m.\u001b[0m\u001b[0mTextReader\u001b[0m\u001b[1;33m(\u001b[0m\u001b[0msrc\u001b[0m\u001b[1;33m,\u001b[0m \u001b[1;33m**\u001b[0m\u001b[0mkwds\u001b[0m\u001b[1;33m)\u001b[0m\u001b[1;33m\u001b[0m\u001b[1;33m\u001b[0m\u001b[0m\n\u001b[0m\u001b[0;32m   1918\u001b[0m         \u001b[0mself\u001b[0m\u001b[1;33m.\u001b[0m\u001b[0munnamed_cols\u001b[0m \u001b[1;33m=\u001b[0m \u001b[0mself\u001b[0m\u001b[1;33m.\u001b[0m\u001b[0m_reader\u001b[0m\u001b[1;33m.\u001b[0m\u001b[0munnamed_cols\u001b[0m\u001b[1;33m\u001b[0m\u001b[1;33m\u001b[0m\u001b[0m\n\u001b[0;32m   1919\u001b[0m \u001b[1;33m\u001b[0m\u001b[0m\n",
      "\u001b[1;32mpandas\\_libs\\parsers.pyx\u001b[0m in \u001b[0;36mpandas._libs.parsers.TextReader.__cinit__\u001b[1;34m()\u001b[0m\n",
      "\u001b[1;32mpandas\\_libs\\parsers.pyx\u001b[0m in \u001b[0;36mpandas._libs.parsers.TextReader._setup_parser_source\u001b[1;34m()\u001b[0m\n",
      "\u001b[1;31mFileNotFoundError\u001b[0m: [Errno 2] File b'../data/rating.csv' does not exist: b'../data/rating.csv'"
     ]
    }
   ],
   "source": [
    "ratings = pd.read_csv('../data/rating.csv')\n",
    "anime = pd.read_csv('../data/anime.csv')"
   ]
  },
  {
   "cell_type": "code",
   "execution_count": 5,
   "metadata": {},
   "outputs": [],
   "source": [
    "anime.rename(columns={'rating' : 'Avg rating'}, inplace=True)"
   ]
  },
  {
   "cell_type": "code",
   "execution_count": 6,
   "metadata": {},
   "outputs": [],
   "source": [
    "df = ratings.merge(anime)"
   ]
  },
  {
   "cell_type": "markdown",
   "metadata": {},
   "source": [
    "## Data cleaning"
   ]
  },
  {
   "cell_type": "code",
   "execution_count": 7,
   "metadata": {},
   "outputs": [],
   "source": [
    "def load_df():\n",
    "    ratings = pd.read_csv('data/rating.csv')\n",
    "    anime = pd.read_csv('data/anime.csv')\n",
    "    anime.rename(columns={'rating' : 'global_avg_rating'}, inplace=True)\n",
    "    df = ratings.merge(anime)\n",
    "    \n",
    "    return df"
   ]
  },
  {
   "cell_type": "code",
   "execution_count": 8,
   "metadata": {},
   "outputs": [],
   "source": [
    "# Takes a df with 1 line per user rating with all movie details, and returns a processed frame with additional features\n",
    "def create_features(df):\n",
    "    df['watched'] = 1 # if there is a rating, this user has watched this anime\n",
    "    df = normalize_user_rating(df)\n",
    "    return df"
   ]
  },
  {
   "cell_type": "code",
   "execution_count": 9,
   "metadata": {},
   "outputs": [],
   "source": [
    "def normalize_user_rating(df):\n",
    "    user_mean_rating = df.groupby('user_id')['rating'].mean()\n",
    "    user_mean_rating = pd.DataFrame(user_mean_rating).rename(columns={'rating':'user_mean_rating'})\n",
    "    \n",
    "    user_sdev_rating = np.sqrt(df.groupby('user_id')['rating'].var())\n",
    "    user_sdev_rating = pd.DataFrame(user_sdev_rating).rename(columns={'rating':'user_sdev_rating'})\n",
    "    \n",
    "    df = df.merge(user_mean_rating, on='user_id').merge(user_sdev_rating, on='user_id')\n",
    "    df['rating'] = (df.rating - df['user_mean_rating'])/(df['user_sdev_rating'])\n",
    "    return df"
   ]
  },
  {
   "cell_type": "code",
   "execution_count": 10,
   "metadata": {},
   "outputs": [],
   "source": [
    "raw_df = load_df()"
   ]
  },
  {
   "cell_type": "code",
   "execution_count": 11,
   "metadata": {},
   "outputs": [],
   "source": [
    "df = create_features(raw_df)"
   ]
  },
  {
   "cell_type": "markdown",
   "metadata": {},
   "source": [
    "# Recommendation engine"
   ]
  },
  {
   "cell_type": "markdown",
   "metadata": {},
   "source": [
    "## User-based filter, based on \"watched or not\""
   ]
  },
  {
   "cell_type": "code",
   "execution_count": 12,
   "metadata": {},
   "outputs": [
    {
     "data": {
      "text/html": [
       "<div>\n",
       "<style scoped>\n",
       "    .dataframe tbody tr th:only-of-type {\n",
       "        vertical-align: middle;\n",
       "    }\n",
       "\n",
       "    .dataframe tbody tr th {\n",
       "        vertical-align: top;\n",
       "    }\n",
       "\n",
       "    .dataframe thead th {\n",
       "        text-align: right;\n",
       "    }\n",
       "</style>\n",
       "<table border=\"1\" class=\"dataframe\">\n",
       "  <thead>\n",
       "    <tr style=\"text-align: right;\">\n",
       "      <th></th>\n",
       "      <th>user_id</th>\n",
       "      <th>anime_id</th>\n",
       "      <th>rating</th>\n",
       "      <th>name</th>\n",
       "      <th>genre</th>\n",
       "      <th>type</th>\n",
       "      <th>episodes</th>\n",
       "      <th>global_avg_rating</th>\n",
       "      <th>members</th>\n",
       "      <th>watched</th>\n",
       "      <th>user_mean_rating</th>\n",
       "      <th>user_sdev_rating</th>\n",
       "    </tr>\n",
       "  </thead>\n",
       "  <tbody>\n",
       "    <tr>\n",
       "      <td>0</td>\n",
       "      <td>1</td>\n",
       "      <td>20</td>\n",
       "      <td>-0.16331</td>\n",
       "      <td>Naruto</td>\n",
       "      <td>Action, Comedy, Martial Arts, Shounen, Super P...</td>\n",
       "      <td>TV</td>\n",
       "      <td>220</td>\n",
       "      <td>7.81</td>\n",
       "      <td>683297</td>\n",
       "      <td>1</td>\n",
       "      <td>-0.712418</td>\n",
       "      <td>1.760955</td>\n",
       "    </tr>\n",
       "    <tr>\n",
       "      <td>1</td>\n",
       "      <td>1</td>\n",
       "      <td>24</td>\n",
       "      <td>-0.16331</td>\n",
       "      <td>School Rumble</td>\n",
       "      <td>Comedy, Romance, School, Shounen</td>\n",
       "      <td>TV</td>\n",
       "      <td>26</td>\n",
       "      <td>8.06</td>\n",
       "      <td>178553</td>\n",
       "      <td>1</td>\n",
       "      <td>-0.712418</td>\n",
       "      <td>1.760955</td>\n",
       "    </tr>\n",
       "    <tr>\n",
       "      <td>2</td>\n",
       "      <td>1</td>\n",
       "      <td>79</td>\n",
       "      <td>-0.16331</td>\n",
       "      <td>Shuffle!</td>\n",
       "      <td>Comedy, Drama, Ecchi, Fantasy, Harem, Magic, R...</td>\n",
       "      <td>TV</td>\n",
       "      <td>24</td>\n",
       "      <td>7.31</td>\n",
       "      <td>158772</td>\n",
       "      <td>1</td>\n",
       "      <td>-0.712418</td>\n",
       "      <td>1.760955</td>\n",
       "    </tr>\n",
       "    <tr>\n",
       "      <td>3</td>\n",
       "      <td>1</td>\n",
       "      <td>226</td>\n",
       "      <td>-0.16331</td>\n",
       "      <td>Elfen Lied</td>\n",
       "      <td>Action, Drama, Horror, Psychological, Romance,...</td>\n",
       "      <td>TV</td>\n",
       "      <td>13</td>\n",
       "      <td>7.85</td>\n",
       "      <td>623511</td>\n",
       "      <td>1</td>\n",
       "      <td>-0.712418</td>\n",
       "      <td>1.760955</td>\n",
       "    </tr>\n",
       "    <tr>\n",
       "      <td>4</td>\n",
       "      <td>1</td>\n",
       "      <td>241</td>\n",
       "      <td>-0.16331</td>\n",
       "      <td>Girls Bravo: First Season</td>\n",
       "      <td>Comedy, Ecchi, Fantasy, Harem, Romance, School</td>\n",
       "      <td>TV</td>\n",
       "      <td>11</td>\n",
       "      <td>6.69</td>\n",
       "      <td>84395</td>\n",
       "      <td>1</td>\n",
       "      <td>-0.712418</td>\n",
       "      <td>1.760955</td>\n",
       "    </tr>\n",
       "  </tbody>\n",
       "</table>\n",
       "</div>"
      ],
      "text/plain": [
       "   user_id  anime_id   rating                       name  \\\n",
       "0        1        20 -0.16331                     Naruto   \n",
       "1        1        24 -0.16331              School Rumble   \n",
       "2        1        79 -0.16331                   Shuffle!   \n",
       "3        1       226 -0.16331                 Elfen Lied   \n",
       "4        1       241 -0.16331  Girls Bravo: First Season   \n",
       "\n",
       "                                               genre type episodes  \\\n",
       "0  Action, Comedy, Martial Arts, Shounen, Super P...   TV      220   \n",
       "1                   Comedy, Romance, School, Shounen   TV       26   \n",
       "2  Comedy, Drama, Ecchi, Fantasy, Harem, Magic, R...   TV       24   \n",
       "3  Action, Drama, Horror, Psychological, Romance,...   TV       13   \n",
       "4     Comedy, Ecchi, Fantasy, Harem, Romance, School   TV       11   \n",
       "\n",
       "   global_avg_rating  members  watched  user_mean_rating  user_sdev_rating  \n",
       "0               7.81   683297        1         -0.712418          1.760955  \n",
       "1               8.06   178553        1         -0.712418          1.760955  \n",
       "2               7.31   158772        1         -0.712418          1.760955  \n",
       "3               7.85   623511        1         -0.712418          1.760955  \n",
       "4               6.69    84395        1         -0.712418          1.760955  "
      ]
     },
     "execution_count": 12,
     "metadata": {},
     "output_type": "execute_result"
    }
   ],
   "source": [
    "df.head()"
   ]
  },
  {
   "cell_type": "code",
   "execution_count": 13,
   "metadata": {},
   "outputs": [],
   "source": [
    "pt = pd.pivot_table(df, index='user_id', columns='name', values='watched')"
   ]
  },
  {
   "cell_type": "code",
   "execution_count": 14,
   "metadata": {},
   "outputs": [],
   "source": [
    "trainset = pt.head(5000)"
   ]
  },
  {
   "cell_type": "code",
   "execution_count": 16,
   "metadata": {},
   "outputs": [],
   "source": [
    "def prune_data(df):\n",
    "    df = df.dropna(axis=1, how='all')\n",
    "    df = df.fillna(0)\n",
    "    return df"
   ]
  },
  {
   "cell_type": "code",
   "execution_count": 17,
   "metadata": {},
   "outputs": [],
   "source": [
    "trainset = prune_data(trainset)"
   ]
  },
  {
   "cell_type": "code",
   "execution_count": 18,
   "metadata": {},
   "outputs": [],
   "source": [
    "from sklearn.metrics.pairwise import cosine_similarity"
   ]
  },
  {
   "cell_type": "code",
   "execution_count": 19,
   "metadata": {},
   "outputs": [],
   "source": [
    "similarity_matrix = pd.DataFrame(cosine_similarity(trainset),index=trainset.index, columns=trainset.index)"
   ]
  },
  {
   "cell_type": "code",
   "execution_count": 20,
   "metadata": {},
   "outputs": [],
   "source": [
    "def user_similarity_score(user_df, trainset):\n",
    "    x = cosine_similarity(user_df.values.reshape(1,-1), trainset.values)\n",
    "    return pd.DataFrame(x.T, index=trainset.index, columns=['user_similarity'])"
   ]
  },
  {
   "cell_type": "code",
   "execution_count": 21,
   "metadata": {},
   "outputs": [
    {
     "data": {
      "text/html": [
       "<div>\n",
       "<style scoped>\n",
       "    .dataframe tbody tr th:only-of-type {\n",
       "        vertical-align: middle;\n",
       "    }\n",
       "\n",
       "    .dataframe tbody tr th {\n",
       "        vertical-align: top;\n",
       "    }\n",
       "\n",
       "    .dataframe thead th {\n",
       "        text-align: right;\n",
       "    }\n",
       "</style>\n",
       "<table border=\"1\" class=\"dataframe\">\n",
       "  <thead>\n",
       "    <tr style=\"text-align: right;\">\n",
       "      <th></th>\n",
       "      <th>user_similarity</th>\n",
       "    </tr>\n",
       "    <tr>\n",
       "      <th>user_id</th>\n",
       "      <th></th>\n",
       "    </tr>\n",
       "  </thead>\n",
       "  <tbody>\n",
       "    <tr>\n",
       "      <td>12</td>\n",
       "      <td>1.000000</td>\n",
       "    </tr>\n",
       "    <tr>\n",
       "      <td>1288</td>\n",
       "      <td>0.527645</td>\n",
       "    </tr>\n",
       "    <tr>\n",
       "      <td>3139</td>\n",
       "      <td>0.483494</td>\n",
       "    </tr>\n",
       "    <tr>\n",
       "      <td>241</td>\n",
       "      <td>0.471940</td>\n",
       "    </tr>\n",
       "    <tr>\n",
       "      <td>752</td>\n",
       "      <td>0.465379</td>\n",
       "    </tr>\n",
       "    <tr>\n",
       "      <td>...</td>\n",
       "      <td>...</td>\n",
       "    </tr>\n",
       "    <tr>\n",
       "      <td>3545</td>\n",
       "      <td>0.000000</td>\n",
       "    </tr>\n",
       "    <tr>\n",
       "      <td>3540</td>\n",
       "      <td>0.000000</td>\n",
       "    </tr>\n",
       "    <tr>\n",
       "      <td>516</td>\n",
       "      <td>0.000000</td>\n",
       "    </tr>\n",
       "    <tr>\n",
       "      <td>515</td>\n",
       "      <td>0.000000</td>\n",
       "    </tr>\n",
       "    <tr>\n",
       "      <td>3394</td>\n",
       "      <td>0.000000</td>\n",
       "    </tr>\n",
       "  </tbody>\n",
       "</table>\n",
       "<p>5000 rows × 1 columns</p>\n",
       "</div>"
      ],
      "text/plain": [
       "         user_similarity\n",
       "user_id                 \n",
       "12              1.000000\n",
       "1288            0.527645\n",
       "3139            0.483494\n",
       "241             0.471940\n",
       "752             0.465379\n",
       "...                  ...\n",
       "3545            0.000000\n",
       "3540            0.000000\n",
       "516             0.000000\n",
       "515             0.000000\n",
       "3394            0.000000\n",
       "\n",
       "[5000 rows x 1 columns]"
      ]
     },
     "execution_count": 21,
     "metadata": {},
     "output_type": "execute_result"
    }
   ],
   "source": [
    "user_similarity_score(trainset.loc[12],trainset).sort_values(by='user_similarity', ascending=False)"
   ]
  },
  {
   "cell_type": "markdown",
   "metadata": {},
   "source": [
    "## Load in new anime movie template"
   ]
  },
  {
   "cell_type": "code",
   "execution_count": 22,
   "metadata": {},
   "outputs": [],
   "source": [
    "user_input = pd.read_csv('data/meg_ratings.csv')\n",
    "user_input.rename(columns={'MEG ratin':'watched'}, inplace=True)\n",
    "user_input.index = user_input.name\n",
    "user_input = user_input[['watched']].fillna(0)"
   ]
  },
  {
   "cell_type": "code",
   "execution_count": 23,
   "metadata": {},
   "outputs": [],
   "source": [
    "# select only the movies that are in my trainingset\n",
    "user_input_vector = user_input.loc[trainset.columns]\n",
    "#user_input_vector = trainset.loc[105]\n",
    "#user_input_vector = pd.DataFrame(user_input_vector.values, index=user_input_vector.index, columns=['watched'])"
   ]
  },
  {
   "cell_type": "code",
   "execution_count": 24,
   "metadata": {},
   "outputs": [
    {
     "data": {
      "text/plain": [
       "0.0    7021\n",
       "1.0      86\n",
       "Name: watched, dtype: int64"
      ]
     },
     "execution_count": 24,
     "metadata": {},
     "output_type": "execute_result"
    }
   ],
   "source": [
    "user_input_vector.watched.value_counts()"
   ]
  },
  {
   "cell_type": "code",
   "execution_count": 25,
   "metadata": {},
   "outputs": [],
   "source": [
    "def score_movies(df, user_similarity,n=10):\n",
    "    top_users = user_similarity['user_similarity'].nlargest(n)\n",
    "    movie_preferences_of_top_users = trainset.loc[top_users.index]\n",
    "    movie_scores = movie_preferences_of_top_users.T.dot(top_users)\n",
    "    return pd.DataFrame(movie_scores, columns=['score'])"
   ]
  },
  {
   "cell_type": "code",
   "execution_count": 26,
   "metadata": {},
   "outputs": [],
   "source": [
    "def show_top_new_recos(scored_movies, user_watched, filter_watched=True):\n",
    "    df = user_watched.merge(scored_movies, on='name')\n",
    "    if (filter_watched):\n",
    "        df = df[df.watched==0]\n",
    "    return df.sort_values(by='score', ascending=False)"
   ]
  },
  {
   "cell_type": "code",
   "execution_count": 27,
   "metadata": {},
   "outputs": [
    {
     "data": {
      "text/html": [
       "<div>\n",
       "<style scoped>\n",
       "    .dataframe tbody tr th:only-of-type {\n",
       "        vertical-align: middle;\n",
       "    }\n",
       "\n",
       "    .dataframe tbody tr th {\n",
       "        vertical-align: top;\n",
       "    }\n",
       "\n",
       "    .dataframe thead th {\n",
       "        text-align: right;\n",
       "    }\n",
       "</style>\n",
       "<table border=\"1\" class=\"dataframe\">\n",
       "  <thead>\n",
       "    <tr style=\"text-align: right;\">\n",
       "      <th></th>\n",
       "      <th>watched</th>\n",
       "      <th>score</th>\n",
       "    </tr>\n",
       "    <tr>\n",
       "      <th>name</th>\n",
       "      <th></th>\n",
       "      <th></th>\n",
       "    </tr>\n",
       "  </thead>\n",
       "  <tbody>\n",
       "    <tr>\n",
       "      <td>Mononoke Hime</td>\n",
       "      <td>0.0</td>\n",
       "      <td>1.579588</td>\n",
       "    </tr>\n",
       "    <tr>\n",
       "      <td>Bishoujo Senshi Sailor Moon</td>\n",
       "      <td>0.0</td>\n",
       "      <td>1.575014</td>\n",
       "    </tr>\n",
       "    <tr>\n",
       "      <td>Soul Eater</td>\n",
       "      <td>0.0</td>\n",
       "      <td>1.573690</td>\n",
       "    </tr>\n",
       "    <tr>\n",
       "      <td>Death Note</td>\n",
       "      <td>0.0</td>\n",
       "      <td>1.573690</td>\n",
       "    </tr>\n",
       "    <tr>\n",
       "      <td>Yuu☆Yuu☆Hakusho</td>\n",
       "      <td>0.0</td>\n",
       "      <td>1.334676</td>\n",
       "    </tr>\n",
       "    <tr>\n",
       "      <td>Fullmetal Alchemist: Brotherhood</td>\n",
       "      <td>0.0</td>\n",
       "      <td>1.327597</td>\n",
       "    </tr>\n",
       "    <tr>\n",
       "      <td>Vampire Knight</td>\n",
       "      <td>0.0</td>\n",
       "      <td>1.327597</td>\n",
       "    </tr>\n",
       "    <tr>\n",
       "      <td>Ao no Exorcist</td>\n",
       "      <td>0.0</td>\n",
       "      <td>1.289884</td>\n",
       "    </tr>\n",
       "    <tr>\n",
       "      <td>Clannad</td>\n",
       "      <td>0.0</td>\n",
       "      <td>1.248919</td>\n",
       "    </tr>\n",
       "    <tr>\n",
       "      <td>Cowboy Bebop</td>\n",
       "      <td>0.0</td>\n",
       "      <td>1.091756</td>\n",
       "    </tr>\n",
       "    <tr>\n",
       "      <td>Majo no Takkyuubin</td>\n",
       "      <td>0.0</td>\n",
       "      <td>1.082299</td>\n",
       "    </tr>\n",
       "    <tr>\n",
       "      <td>Higashi no Eden</td>\n",
       "      <td>0.0</td>\n",
       "      <td>1.055227</td>\n",
       "    </tr>\n",
       "    <tr>\n",
       "      <td>Mahou Shoujo Madoka★Magica</td>\n",
       "      <td>0.0</td>\n",
       "      <td>1.052054</td>\n",
       "    </tr>\n",
       "    <tr>\n",
       "      <td>Bishoujo Senshi Sailor Moon S</td>\n",
       "      <td>0.0</td>\n",
       "      <td>1.051758</td>\n",
       "    </tr>\n",
       "    <tr>\n",
       "      <td>Digimon Adventure</td>\n",
       "      <td>0.0</td>\n",
       "      <td>1.050434</td>\n",
       "    </tr>\n",
       "    <tr>\n",
       "      <td>Suzumiya Haruhi no Yuuutsu</td>\n",
       "      <td>0.0</td>\n",
       "      <td>1.050434</td>\n",
       "    </tr>\n",
       "    <tr>\n",
       "      <td>Suzumiya Haruhi no Yuuutsu (2009)</td>\n",
       "      <td>0.0</td>\n",
       "      <td>1.050434</td>\n",
       "    </tr>\n",
       "    <tr>\n",
       "      <td>Kuroshitsuji</td>\n",
       "      <td>0.0</td>\n",
       "      <td>1.047260</td>\n",
       "    </tr>\n",
       "    <tr>\n",
       "      <td>Code Geass: Hangyaku no Lelouch R2</td>\n",
       "      <td>0.0</td>\n",
       "      <td>1.040538</td>\n",
       "    </tr>\n",
       "    <tr>\n",
       "      <td>Code Geass: Hangyaku no Lelouch</td>\n",
       "      <td>0.0</td>\n",
       "      <td>1.040538</td>\n",
       "    </tr>\n",
       "  </tbody>\n",
       "</table>\n",
       "</div>"
      ],
      "text/plain": [
       "                                    watched     score\n",
       "name                                                 \n",
       "Mononoke Hime                           0.0  1.579588\n",
       "Bishoujo Senshi Sailor Moon             0.0  1.575014\n",
       "Soul Eater                              0.0  1.573690\n",
       "Death Note                              0.0  1.573690\n",
       "Yuu☆Yuu☆Hakusho                         0.0  1.334676\n",
       "Fullmetal Alchemist: Brotherhood        0.0  1.327597\n",
       "Vampire Knight                          0.0  1.327597\n",
       "Ao no Exorcist                          0.0  1.289884\n",
       "Clannad                                 0.0  1.248919\n",
       "Cowboy Bebop                            0.0  1.091756\n",
       "Majo no Takkyuubin                      0.0  1.082299\n",
       "Higashi no Eden                         0.0  1.055227\n",
       "Mahou Shoujo Madoka★Magica              0.0  1.052054\n",
       "Bishoujo Senshi Sailor Moon S           0.0  1.051758\n",
       "Digimon Adventure                       0.0  1.050434\n",
       "Suzumiya Haruhi no Yuuutsu              0.0  1.050434\n",
       "Suzumiya Haruhi no Yuuutsu (2009)       0.0  1.050434\n",
       "Kuroshitsuji                            0.0  1.047260\n",
       "Code Geass: Hangyaku no Lelouch R2      0.0  1.040538\n",
       "Code Geass: Hangyaku no Lelouch         0.0  1.040538"
      ]
     },
     "execution_count": 27,
     "metadata": {},
     "output_type": "execute_result"
    }
   ],
   "source": [
    "similarity_scoring = user_similarity_score(user_input_vector, trainset)\n",
    "movie_scoring = score_movies(trainset, similarity_scoring, n=10)\n",
    "show_top_new_recos(movie_scoring, user_input_vector, filter_watched=True).head(20)"
   ]
  },
  {
   "cell_type": "code",
   "execution_count": 30,
   "metadata": {},
   "outputs": [],
   "source": [
    "res = show_top_new_recos(movie_scoring, user_input_vector, filter_watched=True).head(20)"
   ]
  }
 ],
 "metadata": {
  "kernelspec": {
   "display_name": "Python 3",
   "language": "python",
   "name": "python3"
  },
  "language_info": {
   "codemirror_mode": {
    "name": "ipython",
    "version": 3
   },
   "file_extension": ".py",
   "mimetype": "text/x-python",
   "name": "python",
   "nbconvert_exporter": "python",
   "pygments_lexer": "ipython3",
   "version": "3.7.4"
  }
 },
 "nbformat": 4,
 "nbformat_minor": 2
}
