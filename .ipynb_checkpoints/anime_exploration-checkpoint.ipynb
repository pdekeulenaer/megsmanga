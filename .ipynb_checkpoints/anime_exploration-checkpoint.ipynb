{
 "cells": [
  {
   "cell_type": "code",
   "execution_count": 33,
   "metadata": {},
   "outputs": [],
   "source": [
    "import numpy as np\n",
    "import pandas as pd\n",
    "import seaborn as sns"
   ]
  },
  {
   "cell_type": "code",
   "execution_count": 136,
   "metadata": {},
   "outputs": [],
   "source": [
    "DATA_PATH = 'data'\n",
    "def load_data():\n",
    "    anime = pd.read_csv(\"{}/anime.csv\".format(DATA_PATH))\n",
    "    ratings = pd.read_csv(\"{}/rating.csv\".format(DATA_PATH))\n",
    "    df = ratings.merge(anime, on='anime_id')\n",
    "    df = df.rename(columns={'name':'movie_name', 'rating_x':'user_rating', 'rating_y':'total_avg_rating'})    \n",
    "    \n",
    "    #add watched field\n",
    "    df['user_has_watched'] = 1\n",
    "    \n",
    "    return df, anime, ratings\n"
   ]
  },
  {
   "cell_type": "code",
   "execution_count": 137,
   "metadata": {},
   "outputs": [],
   "source": [
    "def normalize_user_ratings(df):\n",
    "    # remove -1 ratings and replace with average\n",
    "    df['user_rating'] = df['user_rating'].replace(-1,np.nan)\n",
    "    \n",
    "    user_means = df.groupby('user_id')['user_rating'].mean().rename('mean_user_rating')\n",
    "    user_sdevs = np.sqrt(df.groupby('user_id')['user_rating'].var()).rename('stdev_user_rating')\n",
    "    \n",
    "    df = df.merge(user_means, on='user_id').merge(user_sdevs, on='user_id')\n",
    "    df['user_rating'] = df['user_rating'].fillna(df['mean_user_rating'])\n",
    "    \n",
    "    # compute the normalized rating\n",
    "    df['normalized_user_rating'] = (df['user_rating'] - df['mean_user_rating'])/(df['stdev_user_rating'])\n",
    "    \n",
    "    # set those with nan (i.e., no variance in rating) to 0\n",
    "    df['normalized_user_rating'].fillna(0.0, inplace=True)\n",
    "    \n",
    "    return df"
   ]
  },
  {
   "cell_type": "code",
   "execution_count": 138,
   "metadata": {},
   "outputs": [],
   "source": [
    "df, _, _ = load_data()"
   ]
  },
  {
   "cell_type": "code",
   "execution_count": 139,
   "metadata": {},
   "outputs": [],
   "source": [
    "df = normalize_user_ratings(df)"
   ]
  },
  {
   "cell_type": "code",
   "execution_count": null,
   "metadata": {},
   "outputs": [],
   "source": [
    "def user_movie_pivot(df, value_field='user_has_watched'):\n",
    "    matrix = pd.pivot_table(df, index='user_id', columns='movie_name', values='user_has_watched')\n",
    "    "
   ]
  },
  {
   "cell_type": "code",
   "execution_count": 141,
   "metadata": {},
   "outputs": [],
   "source": [
    "matrix = pd.pivot_table(df, index='user_id', columns='movie_name', values='user_has_watched')"
   ]
  },
  {
   "cell_type": "code",
   "execution_count": null,
   "metadata": {},
   "outputs": [],
   "source": []
  }
 ],
 "metadata": {
  "kernelspec": {
   "display_name": "Python 3",
   "language": "python",
   "name": "python3"
  },
  "language_info": {
   "codemirror_mode": {
    "name": "ipython",
    "version": 3
   },
   "file_extension": ".py",
   "mimetype": "text/x-python",
   "name": "python",
   "nbconvert_exporter": "python",
   "pygments_lexer": "ipython3",
   "version": "3.7.4"
  }
 },
 "nbformat": 4,
 "nbformat_minor": 2
}
